{
 "cells": [
  {
   "cell_type": "code",
   "execution_count": 1,
   "metadata": {
    "collapsed": true
   },
   "outputs": [],
   "source": [
    "%matplotlib inline\n",
    "import pandas as pd\n",
    "import numpy as np\n",
    "import seaborn as sns"
   ]
  },
  {
   "cell_type": "code",
   "execution_count": 2,
   "metadata": {
    "collapsed": true
   },
   "outputs": [],
   "source": [
    "data_file = \"merge_data.csv\"\n",
    "df = pd.read_csv(data_file)"
   ]
  },
  {
   "cell_type": "code",
   "execution_count": 3,
   "metadata": {},
   "outputs": [
    {
     "data": {
      "text/html": [
       "<div>\n",
       "<style>\n",
       "    .dataframe thead tr:only-child th {\n",
       "        text-align: right;\n",
       "    }\n",
       "\n",
       "    .dataframe thead th {\n",
       "        text-align: left;\n",
       "    }\n",
       "\n",
       "    .dataframe tbody tr th {\n",
       "        vertical-align: top;\n",
       "    }\n",
       "</style>\n",
       "<table border=\"1\" class=\"dataframe\">\n",
       "  <thead>\n",
       "    <tr style=\"text-align: right;\">\n",
       "      <th></th>\n",
       "      <th>datetime</th>\n",
       "      <th>sticker</th>\n",
       "      <th>Alpha1</th>\n",
       "      <th>dividend</th>\n",
       "      <th>pe</th>\n",
       "      <th>pb</th>\n",
       "      <th>roa</th>\n",
       "      <th>eps</th>\n",
       "      <th>return</th>\n",
       "    </tr>\n",
       "  </thead>\n",
       "  <tbody>\n",
       "    <tr>\n",
       "      <th>0</th>\n",
       "      <td>2010-01-04</td>\n",
       "      <td>1</td>\n",
       "      <td>NaN</td>\n",
       "      <td>0.0</td>\n",
       "      <td>3.258554</td>\n",
       "      <td>13.130871</td>\n",
       "      <td>0.009611</td>\n",
       "      <td>0.528177</td>\n",
       "      <td>-0.027085</td>\n",
       "    </tr>\n",
       "    <tr>\n",
       "      <th>1</th>\n",
       "      <td>2010-01-05</td>\n",
       "      <td>1</td>\n",
       "      <td>NaN</td>\n",
       "      <td>0.0</td>\n",
       "      <td>3.258554</td>\n",
       "      <td>13.130871</td>\n",
       "      <td>0.009611</td>\n",
       "      <td>0.528177</td>\n",
       "      <td>-0.017291</td>\n",
       "    </tr>\n",
       "    <tr>\n",
       "      <th>2</th>\n",
       "      <td>2010-01-06</td>\n",
       "      <td>1</td>\n",
       "      <td>NaN</td>\n",
       "      <td>0.0</td>\n",
       "      <td>3.258554</td>\n",
       "      <td>13.130871</td>\n",
       "      <td>0.009611</td>\n",
       "      <td>0.528177</td>\n",
       "      <td>-0.017165</td>\n",
       "    </tr>\n",
       "    <tr>\n",
       "      <th>3</th>\n",
       "      <td>2010-01-07</td>\n",
       "      <td>1</td>\n",
       "      <td>NaN</td>\n",
       "      <td>0.0</td>\n",
       "      <td>3.258554</td>\n",
       "      <td>13.130871</td>\n",
       "      <td>0.009611</td>\n",
       "      <td>0.528177</td>\n",
       "      <td>-0.010921</td>\n",
       "    </tr>\n",
       "    <tr>\n",
       "      <th>4</th>\n",
       "      <td>2010-01-08</td>\n",
       "      <td>1</td>\n",
       "      <td>NaN</td>\n",
       "      <td>0.0</td>\n",
       "      <td>3.258554</td>\n",
       "      <td>13.130871</td>\n",
       "      <td>0.009611</td>\n",
       "      <td>0.528177</td>\n",
       "      <td>-0.002201</td>\n",
       "    </tr>\n",
       "  </tbody>\n",
       "</table>\n",
       "</div>"
      ],
      "text/plain": [
       "     datetime  sticker  Alpha1  dividend        pe         pb       roa  \\\n",
       "0  2010-01-04        1     NaN       0.0  3.258554  13.130871  0.009611   \n",
       "1  2010-01-05        1     NaN       0.0  3.258554  13.130871  0.009611   \n",
       "2  2010-01-06        1     NaN       0.0  3.258554  13.130871  0.009611   \n",
       "3  2010-01-07        1     NaN       0.0  3.258554  13.130871  0.009611   \n",
       "4  2010-01-08        1     NaN       0.0  3.258554  13.130871  0.009611   \n",
       "\n",
       "        eps    return  \n",
       "0  0.528177 -0.027085  \n",
       "1  0.528177 -0.017291  \n",
       "2  0.528177 -0.017165  \n",
       "3  0.528177 -0.010921  \n",
       "4  0.528177 -0.002201  "
      ]
     },
     "execution_count": 3,
     "metadata": {},
     "output_type": "execute_result"
    }
   ],
   "source": [
    "df.head()"
   ]
  },
  {
   "cell_type": "code",
   "execution_count": 4,
   "metadata": {},
   "outputs": [
    {
     "data": {
      "text/html": [
       "<div>\n",
       "<style>\n",
       "    .dataframe thead tr:only-child th {\n",
       "        text-align: right;\n",
       "    }\n",
       "\n",
       "    .dataframe thead th {\n",
       "        text-align: left;\n",
       "    }\n",
       "\n",
       "    .dataframe tbody tr th {\n",
       "        vertical-align: top;\n",
       "    }\n",
       "</style>\n",
       "<table border=\"1\" class=\"dataframe\">\n",
       "  <thead>\n",
       "    <tr style=\"text-align: right;\">\n",
       "      <th></th>\n",
       "      <th>datetime</th>\n",
       "      <th>sticker</th>\n",
       "      <th>Alpha1</th>\n",
       "      <th>dividend</th>\n",
       "      <th>pe</th>\n",
       "      <th>pb</th>\n",
       "      <th>roa</th>\n",
       "      <th>eps</th>\n",
       "      <th>return</th>\n",
       "    </tr>\n",
       "  </thead>\n",
       "  <tbody>\n",
       "    <tr>\n",
       "      <th>23</th>\n",
       "      <td>2010-02-04</td>\n",
       "      <td>1</td>\n",
       "      <td>829.5</td>\n",
       "      <td>0.0</td>\n",
       "      <td>3.258554</td>\n",
       "      <td>13.130871</td>\n",
       "      <td>0.009611</td>\n",
       "      <td>0.528177</td>\n",
       "      <td>-0.016836</td>\n",
       "    </tr>\n",
       "    <tr>\n",
       "      <th>24</th>\n",
       "      <td>2010-02-05</td>\n",
       "      <td>1</td>\n",
       "      <td>1180.5</td>\n",
       "      <td>0.0</td>\n",
       "      <td>3.258554</td>\n",
       "      <td>13.130871</td>\n",
       "      <td>0.009611</td>\n",
       "      <td>0.528177</td>\n",
       "      <td>-0.009008</td>\n",
       "    </tr>\n",
       "    <tr>\n",
       "      <th>25</th>\n",
       "      <td>2010-02-08</td>\n",
       "      <td>1</td>\n",
       "      <td>1364.0</td>\n",
       "      <td>0.0</td>\n",
       "      <td>3.258554</td>\n",
       "      <td>13.130871</td>\n",
       "      <td>0.009611</td>\n",
       "      <td>0.528177</td>\n",
       "      <td>-0.020002</td>\n",
       "    </tr>\n",
       "    <tr>\n",
       "      <th>26</th>\n",
       "      <td>2010-02-09</td>\n",
       "      <td>1</td>\n",
       "      <td>1460.5</td>\n",
       "      <td>0.0</td>\n",
       "      <td>3.258554</td>\n",
       "      <td>13.130871</td>\n",
       "      <td>0.009611</td>\n",
       "      <td>0.528177</td>\n",
       "      <td>0.020410</td>\n",
       "    </tr>\n",
       "    <tr>\n",
       "      <th>27</th>\n",
       "      <td>2010-02-10</td>\n",
       "      <td>1</td>\n",
       "      <td>390.0</td>\n",
       "      <td>0.0</td>\n",
       "      <td>3.258554</td>\n",
       "      <td>13.130871</td>\n",
       "      <td>0.009611</td>\n",
       "      <td>0.528177</td>\n",
       "      <td>0.012735</td>\n",
       "    </tr>\n",
       "  </tbody>\n",
       "</table>\n",
       "</div>"
      ],
      "text/plain": [
       "      datetime  sticker  Alpha1  dividend        pe         pb       roa  \\\n",
       "23  2010-02-04        1   829.5       0.0  3.258554  13.130871  0.009611   \n",
       "24  2010-02-05        1  1180.5       0.0  3.258554  13.130871  0.009611   \n",
       "25  2010-02-08        1  1364.0       0.0  3.258554  13.130871  0.009611   \n",
       "26  2010-02-09        1  1460.5       0.0  3.258554  13.130871  0.009611   \n",
       "27  2010-02-10        1   390.0       0.0  3.258554  13.130871  0.009611   \n",
       "\n",
       "         eps    return  \n",
       "23  0.528177 -0.016836  \n",
       "24  0.528177 -0.009008  \n",
       "25  0.528177 -0.020002  \n",
       "26  0.528177  0.020410  \n",
       "27  0.528177  0.012735  "
      ]
     },
     "execution_count": 4,
     "metadata": {},
     "output_type": "execute_result"
    }
   ],
   "source": [
    "clean=df.dropna(axis=0, how='any').copy()\n",
    "clean.head()"
   ]
  },
  {
   "cell_type": "code",
   "execution_count": 5,
   "metadata": {},
   "outputs": [
    {
     "data": {
      "text/html": [
       "<div>\n",
       "<style>\n",
       "    .dataframe thead tr:only-child th {\n",
       "        text-align: right;\n",
       "    }\n",
       "\n",
       "    .dataframe thead th {\n",
       "        text-align: left;\n",
       "    }\n",
       "\n",
       "    .dataframe tbody tr th {\n",
       "        vertical-align: top;\n",
       "    }\n",
       "</style>\n",
       "<table border=\"1\" class=\"dataframe\">\n",
       "  <thead>\n",
       "    <tr style=\"text-align: right;\">\n",
       "      <th></th>\n",
       "      <th>datetime</th>\n",
       "      <th>sticker</th>\n",
       "      <th>Alpha1</th>\n",
       "      <th>dividend</th>\n",
       "      <th>pe</th>\n",
       "      <th>pb</th>\n",
       "      <th>roa</th>\n",
       "      <th>eps</th>\n",
       "      <th>return</th>\n",
       "    </tr>\n",
       "  </thead>\n",
       "  <tbody>\n",
       "    <tr>\n",
       "      <th>23</th>\n",
       "      <td>2010-02-04</td>\n",
       "      <td>1</td>\n",
       "      <td>829.5</td>\n",
       "      <td>0.0</td>\n",
       "      <td>3.258554</td>\n",
       "      <td>13.130871</td>\n",
       "      <td>0.009611</td>\n",
       "      <td>0.528177</td>\n",
       "      <td>-0.016836</td>\n",
       "    </tr>\n",
       "    <tr>\n",
       "      <th>24</th>\n",
       "      <td>2010-02-05</td>\n",
       "      <td>1</td>\n",
       "      <td>1180.5</td>\n",
       "      <td>0.0</td>\n",
       "      <td>3.258554</td>\n",
       "      <td>13.130871</td>\n",
       "      <td>0.009611</td>\n",
       "      <td>0.528177</td>\n",
       "      <td>-0.009008</td>\n",
       "    </tr>\n",
       "    <tr>\n",
       "      <th>25</th>\n",
       "      <td>2010-02-08</td>\n",
       "      <td>1</td>\n",
       "      <td>1364.0</td>\n",
       "      <td>0.0</td>\n",
       "      <td>3.258554</td>\n",
       "      <td>13.130871</td>\n",
       "      <td>0.009611</td>\n",
       "      <td>0.528177</td>\n",
       "      <td>-0.020002</td>\n",
       "    </tr>\n",
       "    <tr>\n",
       "      <th>26</th>\n",
       "      <td>2010-02-09</td>\n",
       "      <td>1</td>\n",
       "      <td>1460.5</td>\n",
       "      <td>0.0</td>\n",
       "      <td>3.258554</td>\n",
       "      <td>13.130871</td>\n",
       "      <td>0.009611</td>\n",
       "      <td>0.528177</td>\n",
       "      <td>0.020410</td>\n",
       "    </tr>\n",
       "    <tr>\n",
       "      <th>27</th>\n",
       "      <td>2010-02-10</td>\n",
       "      <td>1</td>\n",
       "      <td>390.0</td>\n",
       "      <td>0.0</td>\n",
       "      <td>3.258554</td>\n",
       "      <td>13.130871</td>\n",
       "      <td>0.009611</td>\n",
       "      <td>0.528177</td>\n",
       "      <td>0.012735</td>\n",
       "    </tr>\n",
       "  </tbody>\n",
       "</table>\n",
       "</div>"
      ],
      "text/plain": [
       "      datetime  sticker  Alpha1  dividend        pe         pb       roa  \\\n",
       "23  2010-02-04        1   829.5       0.0  3.258554  13.130871  0.009611   \n",
       "24  2010-02-05        1  1180.5       0.0  3.258554  13.130871  0.009611   \n",
       "25  2010-02-08        1  1364.0       0.0  3.258554  13.130871  0.009611   \n",
       "26  2010-02-09        1  1460.5       0.0  3.258554  13.130871  0.009611   \n",
       "27  2010-02-10        1   390.0       0.0  3.258554  13.130871  0.009611   \n",
       "\n",
       "         eps    return  \n",
       "23  0.528177 -0.016836  \n",
       "24  0.528177 -0.009008  \n",
       "25  0.528177 -0.020002  \n",
       "26  0.528177  0.020410  \n",
       "27  0.528177  0.012735  "
      ]
     },
     "execution_count": 5,
     "metadata": {},
     "output_type": "execute_result"
    }
   ],
   "source": [
    "clean.head()"
   ]
  },
  {
   "cell_type": "code",
   "execution_count": 6,
   "metadata": {},
   "outputs": [
    {
     "name": "stdout",
     "output_type": "stream",
     "text": [
      "the shape of original data: (5017381, 9)\n",
      "the shape of clean data:  (4642822, 9)\n"
     ]
    }
   ],
   "source": [
    "print(\"the shape of original data:\", df.shape)\n",
    "print(\"the shape of clean data: \", clean.shape)"
   ]
  },
  {
   "cell_type": "code",
   "execution_count": 7,
   "metadata": {},
   "outputs": [
    {
     "name": "stdout",
     "output_type": "stream",
     "text": [
      "max: 20452.057938\n",
      "min: -85328.657362\n"
     ]
    },
    {
     "data": {
      "text/plain": [
       "<matplotlib.axes._subplots.AxesSubplot at 0x215f9adbd30>"
      ]
     },
     "execution_count": 7,
     "metadata": {},
     "output_type": "execute_result"
    },
    {
     "data": {
      "image/png": "[encoded data removed]",
      "text/plain": [
       "<matplotlib.figure.Figure at 0x215fadc25f8>"
      ]
     },
     "metadata": {},
     "output_type": "display_data"
    }
   ],
   "source": [
    "pe = clean['pe']\n",
    "print('max:', pe.max())\n",
    "print('min:', pe.min())\n",
    "sns.distplot(pe)"
   ]
  },
  {
   "cell_type": "markdown",
   "metadata": {},
   "source": [
    "## 数据的几种处理方式\n",
    "\n",
    "1. Outliers 异常值\n",
    "\n",
    "Define: If PE > 30 and PE < -2\n",
    "\n",
    "Solvers: \n",
    "* replace them with upper limit and lower limit\n",
    "* replace them with mean value or 0 or any other value:\n",
    "    - mean value: this outliner have no function in the final regression model. Just act as the most items."
   ]
  },
  {
   "cell_type": "code",
   "execution_count": 8,
   "metadata": {
    "scrolled": true
   },
   "outputs": [
    {
     "name": "stderr",
     "output_type": "stream",
     "text": [
      "C:\\Users\\Guangli Jiang\\Miniconda3\\lib\\site-packages\\ipykernel_launcher.py:3: SettingWithCopyWarning: \n",
      "A value is trying to be set on a copy of a slice from a DataFrame\n",
      "\n",
      "See the caveats in the documentation: http://pandas.pydata.org/pandas-docs/stable/indexing.html#indexing-view-versus-copy\n",
      "  This is separate from the ipykernel package so we can avoid doing imports until\n",
      "C:\\Users\\Guangli Jiang\\Miniconda3\\lib\\site-packages\\ipykernel_launcher.py:4: SettingWithCopyWarning: \n",
      "A value is trying to be set on a copy of a slice from a DataFrame\n",
      "\n",
      "See the caveats in the documentation: http://pandas.pydata.org/pandas-docs/stable/indexing.html#indexing-view-versus-copy\n",
      "  after removing the cwd from sys.path.\n"
     ]
    },
    {
     "data": {
      "text/plain": [
       "<matplotlib.axes._subplots.AxesSubplot at 0x21598810780>"
      ]
     },
     "execution_count": 8,
     "metadata": {},
     "output_type": "execute_result"
    },
    {
     "data": {
      "image/png": "[encoded data removed]",
      "text/plain": [
       "<matplotlib.figure.Figure at 0x215f7e0b5f8>"
      ]
     },
     "metadata": {},
     "output_type": "display_data"
    }
   ],
   "source": [
    "upper_limit = 30\n",
    "lower_limit = -2\n",
    "pe[pe > upper_limit] = upper_limit\n",
    "pe[pe < lower_limit] = lower_limit\n",
    "sns.distplot(pe)"
   ]
  },
  {
   "cell_type": "markdown",
   "metadata": {},
   "source": [
    "## 归一化"
   ]
  },
  {
   "cell_type": "code",
   "execution_count": 10,
   "metadata": {},
   "outputs": [
    {
     "data": {
      "text/plain": [
       "<matplotlib.axes._subplots.AxesSubplot at 0x21598ac3d30>"
      ]
     },
     "execution_count": 10,
     "metadata": {},
     "output_type": "execute_result"
    },
    {
     "data": {
      "image/png": "[encoded data removed]",
      "text/plain": [
       "<matplotlib.figure.Figure at 0x215f802f1d0>"
      ]
     },
     "metadata": {},
     "output_type": "display_data"
    }
   ],
   "source": [
    "# method 1 \n",
    "pe = (pe - pe.min()) / (pe.max() - pe.min())\n",
    "\n",
    "# method 2\n",
    "# pe = (pe - pe.mean()) / pe.std()\n",
    "\n",
    "sns.distplot(pe)"
   ]
  },
  {
   "cell_type": "code",
   "execution_count": 11,
   "metadata": {
    "collapsed": true
   },
   "outputs": [],
   "source": [
    "# save to file \n",
    "clean.to_csv('clean.csv')"
   ]
  },
  {
   "cell_type": "code",
   "execution_count": null,
   "metadata": {
    "collapsed": true
   },
   "outputs": [],
   "source": []
  }
 ],
 "metadata": {
  "kernelspec": {
   "display_name": "Python 3",
   "language": "python",
   "name": "python3"
  },
  "language_info": {
   "codemirror_mode": {
    "name": "ipython",
    "version": 3
   },
   "file_extension": ".py",
   "mimetype": "text/x-python",
   "name": "python",
   "nbconvert_exporter": "python",
   "pygments_lexer": "ipython3",
   "version": "3.6.3"
  }
 },
 "nbformat": 4,
 "nbformat_minor": 2
}
